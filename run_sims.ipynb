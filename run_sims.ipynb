{
 "cells": [
  {
   "cell_type": "markdown",
   "metadata": {},
   "source": [
    "# Run Simulations"
   ]
  },
  {
   "cell_type": "markdown",
   "metadata": {},
   "source": [
    "## Setup"
   ]
  },
  {
   "cell_type": "markdown",
   "metadata": {},
   "source": [
    "Importage"
   ]
  },
  {
   "cell_type": "code",
   "execution_count": 1,
   "metadata": {},
   "outputs": [],
   "source": [
    "# Generic stuff\n",
    "\n",
    "import warnings\n",
    "warnings.filterwarnings('ignore')\n",
    "\n",
    "import numpy as np,pandas as pd\n",
    "from numpy import exp,sin,cos,sqrt\n",
    "from scipy.signal import welch,periodogram\n",
    "from datetime import datetime\n",
    "from itertools import product\n",
    "from copy import copy\n",
    "from joblib import Parallel,delayed\n",
    "from mne.connectivity import spectral_connectivity\n",
    "\n",
    "# Vizualization stuff\n",
    "\n",
    "%matplotlib inline\n",
    "from matplotlib import pyplot as plt\n",
    "import seaborn as sns\n",
    "from IPython.display import Image"
   ]
  },
  {
   "cell_type": "markdown",
   "metadata": {},
   "source": [
    "Simulation function"
   ]
  },
  {
   "cell_type": "code",
   "execution_count": 2,
   "metadata": {},
   "outputs": [],
   "source": [
    "# Notes:\n",
    "# - time series not returned by default (to avoid memory errors). Will be returned \n",
    "#   if return_ts=True\n",
    "# - freq vs. amp param sweep has default range within which max freqs are calculated \n",
    "#   of 5-95 Hz\n",
    "\n",
    "def run_sim(wee = 0.5,wei = 1.,wie = -2.,wii = -0.5,wertn = 0.6,weth = .6,\n",
    "            wthi = 0.2,wthe = 1.65,wrtnth = -2.,wthrtn = 2.,D_e = .0001,D_i= .0001,\n",
    "            D_th = 0.0001,D_rtn = 0.0001,T = 1024*4,P=1,Q = 1,K = 1,Dt = 0.001,\n",
    "            dt = 0.1,gain = 20.,threshold = 0.,Pi = 3.14159,g = -0.9,a_e = 0.3,\n",
    "            a_i = 0.5,a_th = 0.2,a_rtn = 0.2,i_e = -0.35,i_i = -0.3,i_th = 0.5,\n",
    "            i_rtn = -0.8,tau1  = 20.,tau2 = 5.,I_o = 0,T_transient=1000,\n",
    "            stim_freq=35.,stim_amp=0.5,return_ts=False,compute_connectivity=False):\n",
    "    \n",
    "    n_nodes = K\n",
    "    \n",
    "    x1 = n_nodes/2.\n",
    "    x2 = x1+20.\n",
    "\n",
    "    # Neuronal response function\n",
    "    def f(u,gain=gain,threshold=threshold):\n",
    "        output= 1./(1.+exp(-gain*(u-threshold))); \n",
    "        return output \n",
    "    \n",
    "    # Initialize variables\n",
    "    Xi_e = np.random.uniform(low=-1.,high=1.,size=[K,T+T_transient])\n",
    "    Xi_i = np.random.uniform(low=-1.,high=1.,size=[K,T+T_transient])\n",
    "    Xi_th = np.random.uniform(low=-1.,high=1.,size=[K,T+T_transient])\n",
    "    Xi_rtn = np.random.uniform(low=-1.,high=1.,size=[K,T+T_transient])\n",
    "    \n",
    "    e = np.zeros_like(Xi_e) \n",
    "    i = np.zeros_like(Xi_i)\n",
    "    th = np.zeros_like(Xi_th)\n",
    "    rtn = np.zeros_like(Xi_rtn)\n",
    "    \n",
    "    Ts = np.arange(0,T+T_transient)\n",
    "    \n",
    "\n",
    "    #state_input = ((Ts>x1+1)&(Ts<x2)).astype(float)\n",
    "    state_input = 1. # not sure what this is suppose do be doing...\n",
    "    \n",
    "    stim = state_input * stim_amp*sin(2*Pi*stim_freq*Ts*Dt)\n",
    "\n",
    "    # If I do this, it changes the time series dramatically (halves the period...)\n",
    "    #e = Xi_e\n",
    "    #i = Xi_i\n",
    "    #th = Xi_th\n",
    "    #rtn = Xi_rtn\n",
    "    # ...so initialize just first state with random variables instead...\n",
    "    e[:,0] = np.random.randn(n_nodes)\n",
    "    i[:,0] = np.random.randn(n_nodes)\n",
    "    th[:,0] = np.random.randn(n_nodes)\n",
    "    rtn[:,0] = np.random.randn(n_nodes)\n",
    "    \n",
    "    # Integration loop\n",
    "    \n",
    "    for t in Ts[:-1]:\n",
    "        \n",
    "        Cortico_cortical_input = f(e[:,t]).mean()\n",
    "        \n",
    "        # Cortico-cortical connections\n",
    "        weefe = wee*f(e[:,t])\n",
    "        wiifi = wii*f(i[:,t])\n",
    "        wiefi = wie*f(i[:,t])\n",
    "        weife = wei*f(e[:,t]) \n",
    "        gccin = g*Cortico_cortical_input\n",
    "            \n",
    "        # Cortico-thalamic connections\n",
    "        wethfe = weth*f(e[:,t-tau1]) \n",
    "        wertnfe = wertn*f(e[:,t-tau1])\n",
    "            \n",
    "        # Thalamo-cortical connections\n",
    "        if t<=tau1:\n",
    "            wthefth=wthifth=0\n",
    "        else:\n",
    "            wthefth = wthe*f(th[:,t-tau1])\n",
    "            wthifth = wthi*f(th[:,t-tau1])\n",
    "            \n",
    "        # Thalamo-thalamic connections\n",
    "        if t<=tau2:\n",
    "            wthrtnfth=wrtnthfrtn=0\n",
    "        else:\n",
    "            wrtnthfrtn = wrtnth*f(rtn[:,t-tau2])\n",
    "            wthrtnfth = wthrtn*f(th[:,t-tau2])\n",
    "\n",
    "        # Noise inputs\n",
    "        e_noise = sqrt(2.*D_e*dt)*Xi_e[:,t]\n",
    "        i_noise = sqrt(2.*D_i*dt)*Xi_i[:,t]\n",
    "        th_noise = sqrt(2.*D_th*dt)*Xi_th[:,t]\n",
    "        rtn_noise = sqrt(2.*D_rtn*dt)*Xi_rtn[:,t]\n",
    "            \n",
    "            \n",
    "        # Collate inputs\n",
    "        e_inputs = weefe + wiefi + wthefth + gccin + i_e + stim[t]\n",
    "        i_inputs = weife + wiifi + wthifth + i_i\n",
    "        th_inputs = wethfe + wrtnthfrtn + I_o + i_th\n",
    "        rtn_inputs = wthrtnfth + wertnfe+ i_rtn\n",
    "          \n",
    "        # d/dt\n",
    "        e[:,t+1]   = e[:,t]   + dt*a_e*(-e[:,t]     + e_inputs)   + e_noise\n",
    "        i[:,t+1]   = i[:,t]   + dt*a_i*(-i[:,t]     + i_inputs)   + i_noise\n",
    "        th[:,t+1]  = th[:,t]  + dt*a_th*(-th[:,t]   + th_inputs)  + th_noise\n",
    "        rtn[:,t+1] = rtn[:,t] + dt*a_rtn*(-rtn[:,t] + rtn_inputs) + rtn_noise\n",
    "\n",
    "            \n",
    "\n",
    "    # Concatenate sim time series\n",
    "    df_all = pd.concat({'e': pd.DataFrame(e.T[T_transient:]),\n",
    "                        'i': pd.DataFrame(i.T[T_transient:]),\n",
    "                        'th':pd.DataFrame(th.T[T_transient:]),\n",
    "                        'rtn': pd.DataFrame(rtn.T[T_transient:]),\n",
    "                        'stim': pd.DataFrame(stim.T[T_transient:])},axis=1)\n",
    "    df_all.index = (Ts[T_transient:]-T_transient)*(Dt*1000.)\n",
    "\n",
    "    # Compute power spectra:\n",
    "    \n",
    "    # 1. Welch's method\n",
    "    tmp = welch(df_all.T,fs= 1./Dt) \n",
    "    df_wel = pd.DataFrame(tmp[1].T,index=tmp[0])\n",
    "    df_wel.columns = df_all.columns\n",
    "    \n",
    "    # 2. Periodogram\n",
    "    tmp = periodogram(df_all.T,fs= 1./Dt) \n",
    "    df_per = pd.DataFrame(tmp[1].T,index=tmp[0])\n",
    "    df_per.columns = df_all.columns\n",
    "    \n",
    "\n",
    "    if compute_connectivity:\n",
    "        \n",
    "        cols = df_all.columns\n",
    "        data = df_all.values.copy().T[np.newaxis,:,:]\n",
    "        \n",
    "        spec_conn_coh = spectral_connectivity(data=data,method='coh',sfreq=1./Dt,verbose=False)\n",
    "        con_coh,freqs_coh,times_coh,n_epochs_coh,n_tapers_coh = spec_conn_coh\n",
    "        df_con_coh = pd.concat({f: pd.DataFrame(con_coh[:,:,f_it].T,columns=\n",
    "                                                cols,index=cols) \\\n",
    "                    for f_it,f in enumerate(freqs_coh)})\n",
    "        df_con_coh.index.names = ['freq', 'pop', 'region']\n",
    "\n",
    "        spec_conn_plv = spectral_connectivity(data=data,method='plv',sfreq=1./Dt,verbose=False)\n",
    "        con_plv,freqs_plv,times_plv,n_epochs_plv,n_tapers_plv = spec_conn_plv\n",
    "        df_con_plv = pd.concat({f: pd.DataFrame(con_plv[:,:,f_it].T,columns=\n",
    "                                                cols,index=cols) \\\n",
    "                    for f_it,f in enumerate(freqs_plv)})\n",
    "        df_con_plv.index.names = ['freq', 'pop', 'region']\n",
    "        \n",
    "    else:\n",
    "        df_con_coh=df_con_plv=None\n",
    "        \n",
    "    # this is necessary to stop memory error crashes\n",
    "    if return_ts==False: df_all=None\n",
    "    \n",
    "    return df_all,df_wel,df_per,df_con_coh,df_con_plv"
   ]
  },
  {
   "cell_type": "markdown",
   "metadata": {},
   "source": [
    "## Single exemplary parameter set sim runs"
   ]
  },
  {
   "cell_type": "markdown",
   "metadata": {},
   "source": [
    "No stim"
   ]
  },
  {
   "cell_type": "code",
   "execution_count": 3,
   "metadata": {},
   "outputs": [],
   "source": [
    "sim_rest_nostim = run_sim(I_o=0.,K=100,stim_amp=0.,return_ts=True)\n",
    "sim_rest_nostim_ts,_,sim_rest_nostim_psd,_,_ = sim_rest_nostim\n",
    "\n",
    "sim_task_nostim = run_sim(I_o=1.5,K=100,stim_amp=0.,return_ts=True)\n",
    "sim_task_nostim_ts,_,sim_task_nostim_psd,_,_ = sim_task_nostim"
   ]
  },
  {
   "cell_type": "markdown",
   "metadata": {},
   "source": [
    "Stim 27 Hz"
   ]
  },
  {
   "cell_type": "code",
   "execution_count": 4,
   "metadata": {},
   "outputs": [],
   "source": [
    "sim_rest_stim27Hz = run_sim(I_o=0.,K=100,stim_amp=0.5,stim_freq=27.,return_ts=True)\n",
    "sim_rest_stim27Hz_ts,_,sim_rest_stim27Hz_psd,_,_ = sim_rest_stim27Hz\n",
    "\n",
    "sim_task_stim27Hz = run_sim(I_o=1.5,K=100,stim_amp=0.5,stim_freq=27.,return_ts=True)\n",
    "sim_task_stim27Hz_ts,_,sim_task_stim27Hz_psd,_,_ = sim_task_stim27Hz"
   ]
  },
  {
   "cell_type": "markdown",
   "metadata": {},
   "source": [
    "Save to file"
   ]
  },
  {
   "cell_type": "code",
   "execution_count": 5,
   "metadata": {},
   "outputs": [],
   "source": [
    "sim_rest_nostim_ts.to_hdf('sim_singlepsets.hdf', 'sim_rest_nostim_ts')\n",
    "sim_task_nostim_ts.to_hdf('sim_singlepsets.hdf', 'sim_task_nostim_ts')\n",
    "sim_rest_nostim_psd.to_hdf('sim_singlepsets.hdf', 'sim_rest_nostim_psd')\n",
    "sim_task_nostim_psd.to_hdf('sim_singlepsets.hdf', 'sim_task_nostim_psd')\n",
    "\n",
    "sim_rest_stim27Hz_ts.to_hdf('sim_singlepsets.hdf', 'sim_rest_stim27Hz_ts')\n",
    "sim_task_stim27Hz_ts.to_hdf('sim_singlepsets.hdf', 'sim_task_stim27Hz_ts')\n",
    "sim_rest_stim27Hz_psd.to_hdf('sim_singlepsets.hdf', 'sim_rest_stim27Hz_psd')\n",
    "sim_task_stim27Hz_psd.to_hdf('sim_singlepsets.hdf', 'sim_task_stim27Hz_psd')"
   ]
  },
  {
   "cell_type": "markdown",
   "metadata": {},
   "source": [
    "## Stim amplitude vs. Stim frequency parameter space sim runs"
   ]
  },
  {
   "cell_type": "markdown",
   "metadata": {},
   "source": [
    "Parameter sweep and parallelization wrappers"
   ]
  },
  {
   "cell_type": "code",
   "execution_count": 3,
   "metadata": {},
   "outputs": [],
   "source": [
    "def pse_par(paramslist,sim_func=run_sim,n_jobs=2,temp_folder = '/tmp'):\n",
    "    \n",
    "    # Run parallel sims\n",
    "    sim_res = Parallel(n_jobs=n_jobs,temp_folder=temp_folder)\\\n",
    "             (delayed(sim_func)(**p)\\\n",
    "             for p in paramslist)\n",
    "\n",
    "    return sim_res       \n",
    "\n",
    "\n",
    "def FreqVsAmpPsweep(fixed_params,freqs,amps,n_jobs=2,verbose=True,\n",
    "                    temp_folder='/tmp',outfile=None,outpfx=None,\n",
    "                    concat_res=False,return_ts=False,peak_freq_range=[5,95],\n",
    "                    compute_connectivity=False):\n",
    "    \n",
    "    pfr = peak_freq_range\n",
    "    \n",
    "    if verbose == True:\n",
    "        start = datetime.now()\n",
    "        print 'started: %s' %start\n",
    "        \n",
    "    # Set up params list\n",
    "    combs = list(product(freqs,amps))\n",
    "    paramslist = []\n",
    "    for f,a in combs:\n",
    "        newparams = copy(fixed_params)\n",
    "        newparams['stim_freq'] = f\n",
    "        newparams['stim_amp'] = a\n",
    "        newparams['return_ts'] = return_ts\n",
    "        newparams['compute_connectivity'] = compute_connectivity\n",
    "        paramslist.append(newparams)\n",
    "\n",
    "    # Run parallel sims\n",
    "    sim_res = pse_par(paramslist,sim_func = run_sim,n_jobs=n_jobs,\n",
    "                      temp_folder=temp_folder)\n",
    "    \n",
    "    # Assemble outputs\n",
    "    _all_dat,_all_wel,_all_per,_all_coh,_all_plv = {},{},{},{},{}\n",
    "    for (f,a),(dat,wel,per,coh,plv) in zip(combs,sim_res):\n",
    "        _all_dat[f,a] = dat\n",
    "        _all_wel[f,a] = wel\n",
    "        _all_per[f,a] = per\n",
    "        _all_coh[f,a] = coh\n",
    "        _all_plv[f,a] = plv\n",
    "\n",
    "    # added in this option because getting memory error if the param space is too big \n",
    "    if concat_res == False:\n",
    "        res_dict = dict(_all_dat=_all_dat,_all_per=_all_per,_all_wel=_all_wel,\n",
    "                        _all_coh=_all_coh,_all_plv=_all_plv,paramslist=paramslist)\n",
    "    else:\n",
    "        \n",
    "        if return_ts == True:\n",
    "            all_dat = pd.concat(_all_dat)\n",
    "            all_dat.index.names = ['stim_freq', 'stim_amp', 't']\n",
    "            all_dat.columns.names = ['pop', 'region']\n",
    "        else:\n",
    "            all_dat = None\n",
    "            \n",
    "        all_wel = pd.concat(_all_wel)\n",
    "        all_wel.index.names = ['stim_freq', 'stim_amp','Hz']\n",
    "        all_wel.columns.names = ['pop', 'region']\n",
    "\n",
    "        all_per = pd.concat(_all_per)\n",
    "        all_per.index.names = ['stim_freq','stim_amp', 'Hz']\n",
    "        all_per.columns.names = ['pop', 'region']\n",
    "        \n",
    "        all_wel_maxfreqs = all_wel.unstack(['stim_freq','stim_amp']).loc[pfr[0]:pfr[1]]\\\n",
    "                                  .idxmax().unstack('region').mean(axis=1).unstack('pop')\n",
    "        \n",
    "        all_wel_maxamps = all_wel.unstack(['stim_freq', 'stim_amp']).loc[pfr[0]:pfr[1]]\\\n",
    "                                 .unstack('region').mean(axis=1).unstack('pop')\n",
    "    \n",
    "        all_per_maxfreqs = all_per.unstack(['stim_freq','stim_amp']).loc[pfr[0]:pfr[1]]\\\n",
    "                               .idxmax().unstack('region').mean(axis=1).unstack('pop')\n",
    "        \n",
    "        all_per_maxamps = all_per.unstack(['stim_freq', 'stim_amp']).loc[pfr[0]:pfr[1]]\\\n",
    "                              .max().unstack('region').mean(axis=1).unstack('pop')\n",
    "\n",
    "        res_dict = dict(all_dat=all_dat,all_per=all_per,all_wel=all_wel,\n",
    "                        all_wel_maxfreqs=all_wel_maxfreqs,\n",
    "                        all_wel_maxamps=all_wel_maxamps,\n",
    "                        all_per_maxfreqs=all_per_maxfreqs,\n",
    "                        all_per_maxamps=all_per_maxamps)\n",
    "\n",
    "    \n",
    "    if verbose == True:\n",
    "        \n",
    "        finish = datetime.now()\n",
    "        dur = str(finish - start)\n",
    "        print 'finished: %s' %finish\n",
    "        print 'duration: %s' %dur\n",
    "        \n",
    "        \n",
    "    \n",
    "    return res_dict"
   ]
  },
  {
   "cell_type": "markdown",
   "metadata": {},
   "source": [
    "Run sims"
   ]
  },
  {
   "cell_type": "code",
   "execution_count": null,
   "metadata": {},
   "outputs": [
    {
     "name": "stdout",
     "output_type": "stream",
     "text": [
      "started: 2018-03-16 07:11:04.084186\n"
     ]
    }
   ],
   "source": [
    "freqs = np.arange(0,100,1)\n",
    "amps = np.arange(0.,2.05,0.05)\n",
    "fixed_params = {'I_o': 0., 'K':10}\n",
    "sim_rest_psweep = FreqVsAmpPsweep(fixed_params,freqs,amps,n_jobs=4,concat_res=False)"
   ]
  },
  {
   "cell_type": "code",
   "execution_count": null,
   "metadata": {},
   "outputs": [],
   "source": [
    "tmp = pd.concat(sim_rest_psweep['_all_per'])['e'].mean(axis=1)\n",
    "tmp.index.names = ['stim_freq','stim_amp', 'Hz']\n",
    "tmp = tmp.unstack(['stim_freq', 'stim_amp']).idxmax().unstack('stim_freq')\n",
    "sim_rest_psweep_maxfreqs = tmp\n",
    "\n",
    "tmp = pd.concat(sim_rest_psweep['_all_per'])['e'].mean(axis=1)\n",
    "tmp.index.names = ['stim_freq','stim_amp', 'Hz']\n",
    "tmp = tmp.unstack(['stim_freq', 'stim_amp']).max().unstack('stim_freq')\n",
    "sim_rest_psweep_maxamps = tmp\n",
    "\n",
    "sim_rest_psweep_maxfreqs.to_hdf('sim_psweeps.hdf', 'sim_rest_psweep_maxfreqs')\n",
    "sim_rest_psweep_maxamps.to_hdf('sim_psweeps.hdf', 'sim_rest_psweep_maxamps')"
   ]
  },
  {
   "cell_type": "code",
   "execution_count": null,
   "metadata": {},
   "outputs": [],
   "source": [
    "del sim_rest_psweep"
   ]
  },
  {
   "cell_type": "code",
   "execution_count": null,
   "metadata": {},
   "outputs": [],
   "source": [
    "freqs = np.arange(0,100,1)\n",
    "amps = np.arange(0.,1.01,0.01)\n",
    "fixed_params = {'I_o': 1.5, 'K':10}\n",
    "sim_task_psweep = FreqVsAmpPsweep(fixed_params,freqs,amps,n_jobs=4,concat_res=False)"
   ]
  },
  {
   "cell_type": "code",
   "execution_count": null,
   "metadata": {},
   "outputs": [],
   "source": [
    "tmp = pd.concat(sim_task_psweep['_all_per'])['e'].mean(axis=1)\n",
    "tmp.index.names = ['stim_freq','stim_amp', 'Hz']\n",
    "tmp = tmp.unstack(['stim_freq', 'stim_amp']).idxmax().unstack('stim_freq')\n",
    "sim_task_psweep_maxfreqs = tmp\n",
    "\n",
    "tmp = pd.concat(sim_task_psweep['_all_per'])['e'].mean(axis=1)\n",
    "tmp.index.names = ['stim_freq','stim_amp', 'Hz']\n",
    "tmp = tmp.unstack(['stim_freq', 'stim_amp']).max().unstack('stim_freq')\n",
    "sim_task_psweep_maxamps = tmp\n",
    "\n",
    "sim_task_psweep_maxfreqs.to_hdf('sim_psweeps.hdf', 'sim_task_psweep_maxfreqs')\n",
    "sim_task_psweep_maxamps.to_hdf('sim_psweeps.hdf', 'sim_task_psweep_maxamps')"
   ]
  },
  {
   "cell_type": "code",
   "execution_count": null,
   "metadata": {},
   "outputs": [],
   "source": []
  }
 ],
 "metadata": {
  "kernelspec": {
   "display_name": "Python 2",
   "language": "python",
   "name": "python2"
  },
  "language_info": {
   "codemirror_mode": {
    "name": "ipython",
    "version": 2
   },
   "file_extension": ".py",
   "mimetype": "text/x-python",
   "name": "python",
   "nbconvert_exporter": "python",
   "pygments_lexer": "ipython2",
   "version": "2.7.14"
  }
 },
 "nbformat": 4,
 "nbformat_minor": 2
}
